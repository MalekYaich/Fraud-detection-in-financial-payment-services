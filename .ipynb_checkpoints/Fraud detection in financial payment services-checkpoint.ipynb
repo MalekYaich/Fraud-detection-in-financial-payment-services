{
 "cells": [
  {
   "cell_type": "markdown",
   "id": "861ee483-c2c1-4d44-861d-c3ea9b1e32c9",
   "metadata": {},
   "source": [
    "<h1 align=\"center\">  Fraud detection in financial payment services </h1>  \n",
    "<h6 align=\"right\" > réalisé par : Med Amine LAHYANI - Malek YAICH </h6>\n",
    "</br>\n"
   ]
  },
  {
   "cell_type": "markdown",
   "id": "a75309e8-249c-4960-91c4-e84f878d760e",
   "metadata": {},
   "source": [
    "## 1. Importation des packages"
   ]
  },
  {
   "cell_type": "code",
   "execution_count": 1,
   "id": "3e9244ea-dbff-4038-bef9-b0eb680e532e",
   "metadata": {},
   "outputs": [],
   "source": [
    "import pandas as pd\n",
    "import matplotlib.pyplot as plt\n",
    "from sklearn.model_selection import train_test_split\n",
    "from sklearn.neighbors import KNeighborsClassifier\n",
    "from sklearn.tree import DecisionTreeClassifier\n",
    "from sklearn.linear_model import LogisticRegression\n",
    "import warnings\n",
    "warnings.filterwarnings('ignore')"
   ]
  },
  {
   "cell_type": "markdown",
   "id": "7e3a94c2-9c3b-4567-9b27-f508724f6e27",
   "metadata": {},
   "source": [
    "## 2. Load Datasets"
   ]
  },
  {
   "cell_type": "code",
   "execution_count": 2,
   "id": "d2ce23a2-fe4b-4b9e-9177-1bbbf5f1f803",
   "metadata": {},
   "outputs": [
    {
     "data": {
      "text/html": [
       "<div>\n",
       "<style scoped>\n",
       "    .dataframe tbody tr th:only-of-type {\n",
       "        vertical-align: middle;\n",
       "    }\n",
       "\n",
       "    .dataframe tbody tr th {\n",
       "        vertical-align: top;\n",
       "    }\n",
       "\n",
       "    .dataframe thead th {\n",
       "        text-align: right;\n",
       "    }\n",
       "</style>\n",
       "<table border=\"1\" class=\"dataframe\">\n",
       "  <thead>\n",
       "    <tr style=\"text-align: right;\">\n",
       "      <th></th>\n",
       "      <th>step</th>\n",
       "      <th>type</th>\n",
       "      <th>amount</th>\n",
       "      <th>nameOrig</th>\n",
       "      <th>oldbalanceOrig</th>\n",
       "      <th>newbalanceOrig</th>\n",
       "      <th>nameDest</th>\n",
       "      <th>oldbalanceDest</th>\n",
       "      <th>newbalanceDest</th>\n",
       "      <th>isFraud</th>\n",
       "      <th>isFlaggedFraud</th>\n",
       "    </tr>\n",
       "  </thead>\n",
       "  <tbody>\n",
       "    <tr>\n",
       "      <th>0</th>\n",
       "      <td>1</td>\n",
       "      <td>PAYMENT</td>\n",
       "      <td>9839.64</td>\n",
       "      <td>C1231006815</td>\n",
       "      <td>170136.0</td>\n",
       "      <td>160296.36</td>\n",
       "      <td>M1979787155</td>\n",
       "      <td>0.0</td>\n",
       "      <td>0.0</td>\n",
       "      <td>0</td>\n",
       "      <td>0</td>\n",
       "    </tr>\n",
       "    <tr>\n",
       "      <th>1</th>\n",
       "      <td>1</td>\n",
       "      <td>PAYMENT</td>\n",
       "      <td>1864.28</td>\n",
       "      <td>C1666544295</td>\n",
       "      <td>21249.0</td>\n",
       "      <td>19384.72</td>\n",
       "      <td>M2044282225</td>\n",
       "      <td>0.0</td>\n",
       "      <td>0.0</td>\n",
       "      <td>0</td>\n",
       "      <td>0</td>\n",
       "    </tr>\n",
       "    <tr>\n",
       "      <th>2</th>\n",
       "      <td>1</td>\n",
       "      <td>TRANSFER</td>\n",
       "      <td>181.00</td>\n",
       "      <td>C1305486145</td>\n",
       "      <td>181.0</td>\n",
       "      <td>0.00</td>\n",
       "      <td>C553264065</td>\n",
       "      <td>0.0</td>\n",
       "      <td>0.0</td>\n",
       "      <td>1</td>\n",
       "      <td>0</td>\n",
       "    </tr>\n",
       "    <tr>\n",
       "      <th>3</th>\n",
       "      <td>1</td>\n",
       "      <td>CASH_OUT</td>\n",
       "      <td>181.00</td>\n",
       "      <td>C840083671</td>\n",
       "      <td>181.0</td>\n",
       "      <td>0.00</td>\n",
       "      <td>C38997010</td>\n",
       "      <td>21182.0</td>\n",
       "      <td>0.0</td>\n",
       "      <td>1</td>\n",
       "      <td>0</td>\n",
       "    </tr>\n",
       "    <tr>\n",
       "      <th>4</th>\n",
       "      <td>1</td>\n",
       "      <td>PAYMENT</td>\n",
       "      <td>11668.14</td>\n",
       "      <td>C2048537720</td>\n",
       "      <td>41554.0</td>\n",
       "      <td>29885.86</td>\n",
       "      <td>M1230701703</td>\n",
       "      <td>0.0</td>\n",
       "      <td>0.0</td>\n",
       "      <td>0</td>\n",
       "      <td>0</td>\n",
       "    </tr>\n",
       "  </tbody>\n",
       "</table>\n",
       "</div>"
      ],
      "text/plain": [
       "   step      type    amount     nameOrig  oldbalanceOrig  newbalanceOrig  \\\n",
       "0     1   PAYMENT   9839.64  C1231006815        170136.0       160296.36   \n",
       "1     1   PAYMENT   1864.28  C1666544295         21249.0        19384.72   \n",
       "2     1  TRANSFER    181.00  C1305486145           181.0            0.00   \n",
       "3     1  CASH_OUT    181.00   C840083671           181.0            0.00   \n",
       "4     1   PAYMENT  11668.14  C2048537720         41554.0        29885.86   \n",
       "\n",
       "      nameDest  oldbalanceDest  newbalanceDest  isFraud  isFlaggedFraud  \n",
       "0  M1979787155             0.0             0.0        0               0  \n",
       "1  M2044282225             0.0             0.0        0               0  \n",
       "2   C553264065             0.0             0.0        1               0  \n",
       "3    C38997010         21182.0             0.0        1               0  \n",
       "4  M1230701703             0.0             0.0        0               0  "
      ]
     },
     "execution_count": 2,
     "metadata": {},
     "output_type": "execute_result"
    }
   ],
   "source": [
    "fraud= pd.read_csv(\"Fraud.csv\")\n",
    "fraud.head()"
   ]
  },
  {
   "cell_type": "code",
   "execution_count": 3,
   "id": "3b9476b7-6c05-45f0-a7c2-6a2765d9446c",
   "metadata": {},
   "outputs": [
    {
     "name": "stdout",
     "output_type": "stream",
     "text": [
      "<class 'pandas.core.frame.DataFrame'>\n",
      "RangeIndex: 14999 entries, 0 to 14998\n",
      "Data columns (total 11 columns):\n",
      " #   Column          Non-Null Count  Dtype  \n",
      "---  ------          --------------  -----  \n",
      " 0   step            14999 non-null  int64  \n",
      " 1   type            14999 non-null  object \n",
      " 2   amount          14999 non-null  float64\n",
      " 3   nameOrig        14999 non-null  object \n",
      " 4   oldbalanceOrig  14999 non-null  float64\n",
      " 5   newbalanceOrig  14999 non-null  float64\n",
      " 6   nameDest        14999 non-null  object \n",
      " 7   oldbalanceDest  14999 non-null  float64\n",
      " 8   newbalanceDest  14999 non-null  float64\n",
      " 9   isFraud         14999 non-null  int64  \n",
      " 10  isFlaggedFraud  14999 non-null  int64  \n",
      "dtypes: float64(5), int64(3), object(3)\n",
      "memory usage: 1.3+ MB\n"
     ]
    }
   ],
   "source": [
    "fraud.info()"
   ]
  },
  {
   "cell_type": "markdown",
   "id": "59226c40-ae28-4c4f-a35f-b22c72ae31d0",
   "metadata": {},
   "source": [
    "## 3. Data Pre-processing"
   ]
  },
  {
   "cell_type": "code",
   "execution_count": 4,
   "id": "17940e7e-575d-413d-82d0-5956621f3a45",
   "metadata": {},
   "outputs": [
    {
     "data": {
      "text/html": [
       "<div>\n",
       "<style scoped>\n",
       "    .dataframe tbody tr th:only-of-type {\n",
       "        vertical-align: middle;\n",
       "    }\n",
       "\n",
       "    .dataframe tbody tr th {\n",
       "        vertical-align: top;\n",
       "    }\n",
       "\n",
       "    .dataframe thead th {\n",
       "        text-align: right;\n",
       "    }\n",
       "</style>\n",
       "<table border=\"1\" class=\"dataframe\">\n",
       "  <thead>\n",
       "    <tr style=\"text-align: right;\">\n",
       "      <th></th>\n",
       "      <th>step</th>\n",
       "      <th>amount</th>\n",
       "      <th>oldbalanceOrig</th>\n",
       "      <th>newbalanceOrig</th>\n",
       "      <th>oldbalanceDest</th>\n",
       "      <th>newbalanceDest</th>\n",
       "      <th>isFraud</th>\n",
       "      <th>isFlaggedFraud</th>\n",
       "    </tr>\n",
       "  </thead>\n",
       "  <tbody>\n",
       "    <tr>\n",
       "      <th>count</th>\n",
       "      <td>14999.000000</td>\n",
       "      <td>1.499900e+04</td>\n",
       "      <td>1.499900e+04</td>\n",
       "      <td>1.499900e+04</td>\n",
       "      <td>1.499900e+04</td>\n",
       "      <td>1.499900e+04</td>\n",
       "      <td>14999.000000</td>\n",
       "      <td>14999.0</td>\n",
       "    </tr>\n",
       "    <tr>\n",
       "      <th>mean</th>\n",
       "      <td>5.185679</td>\n",
       "      <td>1.143881e+05</td>\n",
       "      <td>7.574424e+05</td>\n",
       "      <td>7.732776e+05</td>\n",
       "      <td>8.341731e+05</td>\n",
       "      <td>1.160071e+06</td>\n",
       "      <td>0.005267</td>\n",
       "      <td>0.0</td>\n",
       "    </tr>\n",
       "    <tr>\n",
       "      <th>std</th>\n",
       "      <td>2.486125</td>\n",
       "      <td>2.832946e+05</td>\n",
       "      <td>1.972152e+06</td>\n",
       "      <td>2.014543e+06</td>\n",
       "      <td>2.521198e+06</td>\n",
       "      <td>3.168736e+06</td>\n",
       "      <td>0.072385</td>\n",
       "      <td>0.0</td>\n",
       "    </tr>\n",
       "    <tr>\n",
       "      <th>min</th>\n",
       "      <td>1.000000</td>\n",
       "      <td>2.390000e+00</td>\n",
       "      <td>0.000000e+00</td>\n",
       "      <td>0.000000e+00</td>\n",
       "      <td>0.000000e+00</td>\n",
       "      <td>0.000000e+00</td>\n",
       "      <td>0.000000</td>\n",
       "      <td>0.0</td>\n",
       "    </tr>\n",
       "    <tr>\n",
       "      <th>25%</th>\n",
       "      <td>3.000000</td>\n",
       "      <td>4.686360e+03</td>\n",
       "      <td>0.000000e+00</td>\n",
       "      <td>0.000000e+00</td>\n",
       "      <td>0.000000e+00</td>\n",
       "      <td>0.000000e+00</td>\n",
       "      <td>0.000000</td>\n",
       "      <td>0.0</td>\n",
       "    </tr>\n",
       "    <tr>\n",
       "      <th>50%</th>\n",
       "      <td>7.000000</td>\n",
       "      <td>1.317682e+04</td>\n",
       "      <td>2.012500e+04</td>\n",
       "      <td>7.322040e+03</td>\n",
       "      <td>0.000000e+00</td>\n",
       "      <td>0.000000e+00</td>\n",
       "      <td>0.000000</td>\n",
       "      <td>0.0</td>\n",
       "    </tr>\n",
       "    <tr>\n",
       "      <th>75%</th>\n",
       "      <td>7.000000</td>\n",
       "      <td>1.249283e+05</td>\n",
       "      <td>1.267654e+05</td>\n",
       "      <td>1.206661e+05</td>\n",
       "      <td>2.598182e+05</td>\n",
       "      <td>2.907726e+05</td>\n",
       "      <td>0.000000</td>\n",
       "      <td>0.0</td>\n",
       "    </tr>\n",
       "    <tr>\n",
       "      <th>max</th>\n",
       "      <td>8.000000</td>\n",
       "      <td>1.000000e+07</td>\n",
       "      <td>1.293042e+07</td>\n",
       "      <td>1.301050e+07</td>\n",
       "      <td>2.093759e+07</td>\n",
       "      <td>2.533027e+07</td>\n",
       "      <td>1.000000</td>\n",
       "      <td>0.0</td>\n",
       "    </tr>\n",
       "  </tbody>\n",
       "</table>\n",
       "</div>"
      ],
      "text/plain": [
       "               step        amount  oldbalanceOrig  newbalanceOrig  \\\n",
       "count  14999.000000  1.499900e+04    1.499900e+04    1.499900e+04   \n",
       "mean       5.185679  1.143881e+05    7.574424e+05    7.732776e+05   \n",
       "std        2.486125  2.832946e+05    1.972152e+06    2.014543e+06   \n",
       "min        1.000000  2.390000e+00    0.000000e+00    0.000000e+00   \n",
       "25%        3.000000  4.686360e+03    0.000000e+00    0.000000e+00   \n",
       "50%        7.000000  1.317682e+04    2.012500e+04    7.322040e+03   \n",
       "75%        7.000000  1.249283e+05    1.267654e+05    1.206661e+05   \n",
       "max        8.000000  1.000000e+07    1.293042e+07    1.301050e+07   \n",
       "\n",
       "       oldbalanceDest  newbalanceDest       isFraud  isFlaggedFraud  \n",
       "count    1.499900e+04    1.499900e+04  14999.000000         14999.0  \n",
       "mean     8.341731e+05    1.160071e+06      0.005267             0.0  \n",
       "std      2.521198e+06    3.168736e+06      0.072385             0.0  \n",
       "min      0.000000e+00    0.000000e+00      0.000000             0.0  \n",
       "25%      0.000000e+00    0.000000e+00      0.000000             0.0  \n",
       "50%      0.000000e+00    0.000000e+00      0.000000             0.0  \n",
       "75%      2.598182e+05    2.907726e+05      0.000000             0.0  \n",
       "max      2.093759e+07    2.533027e+07      1.000000             0.0  "
      ]
     },
     "execution_count": 4,
     "metadata": {},
     "output_type": "execute_result"
    }
   ],
   "source": [
    "fraud.describe()"
   ]
  },
  {
   "cell_type": "code",
   "execution_count": 5,
   "id": "081cc5c2",
   "metadata": {},
   "outputs": [
    {
     "data": {
      "text/plain": [
       "step              0.0\n",
       "type              0.0\n",
       "amount            0.0\n",
       "nameOrig          0.0\n",
       "oldbalanceOrig    0.0\n",
       "newbalanceOrig    0.0\n",
       "nameDest          0.0\n",
       "oldbalanceDest    0.0\n",
       "newbalanceDest    0.0\n",
       "isFraud           0.0\n",
       "isFlaggedFraud    0.0\n",
       "dtype: float64"
      ]
     },
     "execution_count": 5,
     "metadata": {},
     "output_type": "execute_result"
    }
   ],
   "source": [
    "fraud.isnull().mean()"
   ]
  },
  {
   "cell_type": "code",
   "execution_count": 6,
   "id": "eaa6ce15",
   "metadata": {},
   "outputs": [
    {
     "data": {
      "text/plain": [
       "{'whiskers': [<matplotlib.lines.Line2D at 0x2c4ff781100>,\n",
       "  <matplotlib.lines.Line2D at 0x2c4ff7813d0>],\n",
       " 'caps': [<matplotlib.lines.Line2D at 0x2c4ff781760>,\n",
       "  <matplotlib.lines.Line2D at 0x2c4ff781af0>],\n",
       " 'boxes': [<matplotlib.lines.Line2D at 0x2c4ff757af0>],\n",
       " 'medians': [<matplotlib.lines.Line2D at 0x2c4ff781e80>],\n",
       " 'fliers': [<matplotlib.lines.Line2D at 0x2c4ff78b250>],\n",
       " 'means': []}"
      ]
     },
     "execution_count": 6,
     "metadata": {},
     "output_type": "execute_result"
    },
    {
     "data": {
      "image/png": "[encoded data removed]",
      "text/plain": [
       "<Figure size 432x288 with 1 Axes>"
      ]
     },
     "metadata": {
      "needs_background": "light"
     },
     "output_type": "display_data"
    }
   ],
   "source": [
    "plt.boxplot(fraud['amount'])"
   ]
  },
  {
   "cell_type": "code",
   "execution_count": 7,
   "id": "c7c980ca",
   "metadata": {
    "scrolled": true
   },
   "outputs": [],
   "source": [
    "fraud.drop(fraud[fraud['amount']>=3000000].index, inplace=True)"
   ]
  },
  {
   "cell_type": "code",
   "execution_count": 8,
   "id": "9a5ffdd0",
   "metadata": {},
   "outputs": [
    {
     "data": {
      "text/plain": [
       "{'whiskers': [<matplotlib.lines.Line2D at 0x2c48009ee80>,\n",
       "  <matplotlib.lines.Line2D at 0x2c4800ad250>],\n",
       " 'caps': [<matplotlib.lines.Line2D at 0x2c4800ad5e0>,\n",
       "  <matplotlib.lines.Line2D at 0x2c4800ad970>],\n",
       " 'boxes': [<matplotlib.lines.Line2D at 0x2c48009eaf0>],\n",
       " 'medians': [<matplotlib.lines.Line2D at 0x2c4800add00>],\n",
       " 'fliers': [<matplotlib.lines.Line2D at 0x2c4800b90d0>],\n",
       " 'means': []}"
      ]
     },
     "execution_count": 8,
     "metadata": {},
     "output_type": "execute_result"
    },
    {
     "data": {
      "image/png": "[encoded data removed]",
      "text/plain": [
       "<Figure size 432x288 with 1 Axes>"
      ]
     },
     "metadata": {
      "needs_background": "light"
     },
     "output_type": "display_data"
    }
   ],
   "source": [
    "plt.boxplot(fraud['amount'])"
   ]
  },
  {
   "cell_type": "code",
   "execution_count": 9,
   "id": "a68fa537",
   "metadata": {},
   "outputs": [
    {
     "data": {
      "text/plain": [
       "{'whiskers': [<matplotlib.lines.Line2D at 0x2c4801176a0>,\n",
       "  <matplotlib.lines.Line2D at 0x2c480117a30>],\n",
       " 'caps': [<matplotlib.lines.Line2D at 0x2c480117dc0>,\n",
       "  <matplotlib.lines.Line2D at 0x2c480124190>],\n",
       " 'boxes': [<matplotlib.lines.Line2D at 0x2c480117310>],\n",
       " 'medians': [<matplotlib.lines.Line2D at 0x2c480124520>],\n",
       " 'fliers': [<matplotlib.lines.Line2D at 0x2c4801248b0>],\n",
       " 'means': []}"
      ]
     },
     "execution_count": 9,
     "metadata": {},
     "output_type": "execute_result"
    },
    {
     "data": {
      "image/png": "[encoded data removed]",
      "text/plain": [
       "<Figure size 432x288 with 1 Axes>"
      ]
     },
     "metadata": {
      "needs_background": "light"
     },
     "output_type": "display_data"
    }
   ],
   "source": [
    "plt.boxplot(fraud['oldbalanceOrig'])"
   ]
  },
  {
   "cell_type": "code",
   "execution_count": 10,
   "id": "5194fd8a",
   "metadata": {},
   "outputs": [
    {
     "data": {
      "text/plain": [
       "{'whiskers': [<matplotlib.lines.Line2D at 0x2c4801912b0>,\n",
       "  <matplotlib.lines.Line2D at 0x2c480191640>],\n",
       " 'caps': [<matplotlib.lines.Line2D at 0x2c4801918b0>,\n",
       "  <matplotlib.lines.Line2D at 0x2c480191c40>],\n",
       " 'boxes': [<matplotlib.lines.Line2D at 0x2c480181ee0>],\n",
       " 'medians': [<matplotlib.lines.Line2D at 0x2c480191fd0>],\n",
       " 'fliers': [<matplotlib.lines.Line2D at 0x2c48019f3a0>],\n",
       " 'means': []}"
      ]
     },
     "execution_count": 10,
     "metadata": {},
     "output_type": "execute_result"
    },
    {
     "data": {
      "image/png": "[encoded data removed]",
      "text/plain": [
       "<Figure size 432x288 with 1 Axes>"
      ]
     },
     "metadata": {
      "needs_background": "light"
     },
     "output_type": "display_data"
    }
   ],
   "source": [
    "plt.boxplot(fraud['newbalanceOrig'])"
   ]
  },
  {
   "cell_type": "code",
   "execution_count": 11,
   "id": "b231bad0",
   "metadata": {},
   "outputs": [
    {
     "data": {
      "text/plain": [
       "{'whiskers': [<matplotlib.lines.Line2D at 0x2c4801fb6d0>,\n",
       "  <matplotlib.lines.Line2D at 0x2c4801fba60>],\n",
       " 'caps': [<matplotlib.lines.Line2D at 0x2c4801fbdf0>,\n",
       "  <matplotlib.lines.Line2D at 0x2c4802081c0>],\n",
       " 'boxes': [<matplotlib.lines.Line2D at 0x2c4801fb2e0>],\n",
       " 'medians': [<matplotlib.lines.Line2D at 0x2c480208550>],\n",
       " 'fliers': [<matplotlib.lines.Line2D at 0x2c4802088e0>],\n",
       " 'means': []}"
      ]
     },
     "execution_count": 11,
     "metadata": {},
     "output_type": "execute_result"
    },
    {
     "data": {
      "image/png": "[encoded data removed]",
      "text/plain": [
       "<Figure size 432x288 with 1 Axes>"
      ]
     },
     "metadata": {
      "needs_background": "light"
     },
     "output_type": "display_data"
    }
   ],
   "source": [
    "plt.boxplot(fraud['oldbalanceDest'])"
   ]
  },
  {
   "cell_type": "code",
   "execution_count": 12,
   "id": "f76d7d18",
   "metadata": {},
   "outputs": [],
   "source": [
    "fraud.drop(fraud[fraud['oldbalanceDest']>20000000].index, inplace=True)"
   ]
  },
  {
   "cell_type": "code",
   "execution_count": 13,
   "id": "9db7b686",
   "metadata": {},
   "outputs": [
    {
     "data": {
      "text/plain": [
       "{'whiskers': [<matplotlib.lines.Line2D at 0x2c48025bbe0>,\n",
       "  <matplotlib.lines.Line2D at 0x2c48025bf70>],\n",
       " 'caps': [<matplotlib.lines.Line2D at 0x2c48026a340>,\n",
       "  <matplotlib.lines.Line2D at 0x2c48026a6d0>],\n",
       " 'boxes': [<matplotlib.lines.Line2D at 0x2c48025b820>],\n",
       " 'medians': [<matplotlib.lines.Line2D at 0x2c48026aa60>],\n",
       " 'fliers': [<matplotlib.lines.Line2D at 0x2c48026adf0>],\n",
       " 'means': []}"
      ]
     },
     "execution_count": 13,
     "metadata": {},
     "output_type": "execute_result"
    },
    {
     "data": {
      "image/png": "[encoded data removed]",
      "text/plain": [
       "<Figure size 432x288 with 1 Axes>"
      ]
     },
     "metadata": {
      "needs_background": "light"
     },
     "output_type": "display_data"
    }
   ],
   "source": [
    "plt.boxplot(fraud['oldbalanceDest'])"
   ]
  },
  {
   "cell_type": "code",
   "execution_count": 14,
   "id": "00dddb19",
   "metadata": {
    "scrolled": true
   },
   "outputs": [
    {
     "data": {
      "text/plain": [
       "{'whiskers': [<matplotlib.lines.Line2D at 0x2c4802cf9d0>,\n",
       "  <matplotlib.lines.Line2D at 0x2c4802cfd60>],\n",
       " 'caps': [<matplotlib.lines.Line2D at 0x2c4802de130>,\n",
       "  <matplotlib.lines.Line2D at 0x2c4802de4c0>],\n",
       " 'boxes': [<matplotlib.lines.Line2D at 0x2c4802cf640>],\n",
       " 'medians': [<matplotlib.lines.Line2D at 0x2c4802de850>],\n",
       " 'fliers': [<matplotlib.lines.Line2D at 0x2c4802dec10>],\n",
       " 'means': []}"
      ]
     },
     "execution_count": 14,
     "metadata": {},
     "output_type": "execute_result"
    },
    {
     "data": {
      "image/png": "[encoded data removed]",
      "text/plain": [
       "<Figure size 432x288 with 1 Axes>"
      ]
     },
     "metadata": {
      "needs_background": "light"
     },
     "output_type": "display_data"
    }
   ],
   "source": [
    "plt.boxplot(fraud['newbalanceDest'])"
   ]
  },
  {
   "cell_type": "code",
   "execution_count": 15,
   "id": "08365fe7",
   "metadata": {},
   "outputs": [],
   "source": [
    "fraud.drop(fraud[fraud['newbalanceDest']>2000000].index, inplace=True)"
   ]
  },
  {
   "cell_type": "code",
   "execution_count": 16,
   "id": "568e7181",
   "metadata": {},
   "outputs": [
    {
     "data": {
      "text/plain": [
       "{'whiskers': [<matplotlib.lines.Line2D at 0x2c48033c6d0>,\n",
       "  <matplotlib.lines.Line2D at 0x2c48033ca60>],\n",
       " 'caps': [<matplotlib.lines.Line2D at 0x2c48033cdf0>,\n",
       "  <matplotlib.lines.Line2D at 0x2c4813171c0>],\n",
       " 'boxes': [<matplotlib.lines.Line2D at 0x2c48033c340>],\n",
       " 'medians': [<matplotlib.lines.Line2D at 0x2c481317550>],\n",
       " 'fliers': [<matplotlib.lines.Line2D at 0x2c4813178e0>],\n",
       " 'means': []}"
      ]
     },
     "execution_count": 16,
     "metadata": {},
     "output_type": "execute_result"
    },
    {
     "data": {
      "image/png": "[encoded data removed]",
      "text/plain": [
       "<Figure size 432x288 with 1 Axes>"
      ]
     },
     "metadata": {
      "needs_background": "light"
     },
     "output_type": "display_data"
    }
   ],
   "source": [
    "plt.boxplot(fraud['newbalanceDest'])"
   ]
  },
  {
   "cell_type": "code",
   "execution_count": 17,
   "id": "098cb2ed",
   "metadata": {},
   "outputs": [
    {
     "data": {
      "text/html": [
       "<div>\n",
       "<style scoped>\n",
       "    .dataframe tbody tr th:only-of-type {\n",
       "        vertical-align: middle;\n",
       "    }\n",
       "\n",
       "    .dataframe tbody tr th {\n",
       "        vertical-align: top;\n",
       "    }\n",
       "\n",
       "    .dataframe thead th {\n",
       "        text-align: right;\n",
       "    }\n",
       "</style>\n",
       "<table border=\"1\" class=\"dataframe\">\n",
       "  <thead>\n",
       "    <tr style=\"text-align: right;\">\n",
       "      <th></th>\n",
       "      <th>amount</th>\n",
       "      <th>oldbalanceOrig</th>\n",
       "      <th>newbalanceOrig</th>\n",
       "      <th>oldbalanceDest</th>\n",
       "      <th>newbalanceDest</th>\n",
       "      <th>isFraud</th>\n",
       "    </tr>\n",
       "  </thead>\n",
       "  <tbody>\n",
       "    <tr>\n",
       "      <th>0</th>\n",
       "      <td>9839.64</td>\n",
       "      <td>170136.0</td>\n",
       "      <td>160296.36</td>\n",
       "      <td>0.0</td>\n",
       "      <td>0.0</td>\n",
       "      <td>0</td>\n",
       "    </tr>\n",
       "    <tr>\n",
       "      <th>1</th>\n",
       "      <td>1864.28</td>\n",
       "      <td>21249.0</td>\n",
       "      <td>19384.72</td>\n",
       "      <td>0.0</td>\n",
       "      <td>0.0</td>\n",
       "      <td>0</td>\n",
       "    </tr>\n",
       "    <tr>\n",
       "      <th>2</th>\n",
       "      <td>181.00</td>\n",
       "      <td>181.0</td>\n",
       "      <td>0.00</td>\n",
       "      <td>0.0</td>\n",
       "      <td>0.0</td>\n",
       "      <td>1</td>\n",
       "    </tr>\n",
       "    <tr>\n",
       "      <th>3</th>\n",
       "      <td>181.00</td>\n",
       "      <td>181.0</td>\n",
       "      <td>0.00</td>\n",
       "      <td>21182.0</td>\n",
       "      <td>0.0</td>\n",
       "      <td>1</td>\n",
       "    </tr>\n",
       "    <tr>\n",
       "      <th>4</th>\n",
       "      <td>11668.14</td>\n",
       "      <td>41554.0</td>\n",
       "      <td>29885.86</td>\n",
       "      <td>0.0</td>\n",
       "      <td>0.0</td>\n",
       "      <td>0</td>\n",
       "    </tr>\n",
       "  </tbody>\n",
       "</table>\n",
       "</div>"
      ],
      "text/plain": [
       "     amount  oldbalanceOrig  newbalanceOrig  oldbalanceDest  newbalanceDest  \\\n",
       "0   9839.64        170136.0       160296.36             0.0             0.0   \n",
       "1   1864.28         21249.0        19384.72             0.0             0.0   \n",
       "2    181.00           181.0            0.00             0.0             0.0   \n",
       "3    181.00           181.0            0.00         21182.0             0.0   \n",
       "4  11668.14         41554.0        29885.86             0.0             0.0   \n",
       "\n",
       "   isFraud  \n",
       "0        0  \n",
       "1        0  \n",
       "2        1  \n",
       "3        1  \n",
       "4        0  "
      ]
     },
     "execution_count": 17,
     "metadata": {},
     "output_type": "execute_result"
    }
   ],
   "source": [
    "new_fraud=fraud[['amount','oldbalanceOrig','newbalanceOrig','oldbalanceDest','newbalanceDest','isFraud']]\n",
    "new_fraud.head()"
   ]
  },
  {
   "cell_type": "code",
   "execution_count": 18,
   "id": "e1708e9d",
   "metadata": {},
   "outputs": [
    {
     "data": {
      "text/html": [
       "<div>\n",
       "<style scoped>\n",
       "    .dataframe tbody tr th:only-of-type {\n",
       "        vertical-align: middle;\n",
       "    }\n",
       "\n",
       "    .dataframe tbody tr th {\n",
       "        vertical-align: top;\n",
       "    }\n",
       "\n",
       "    .dataframe thead th {\n",
       "        text-align: right;\n",
       "    }\n",
       "</style>\n",
       "<table border=\"1\" class=\"dataframe\">\n",
       "  <thead>\n",
       "    <tr style=\"text-align: right;\">\n",
       "      <th></th>\n",
       "      <th>amount</th>\n",
       "      <th>oldbalanceOrig</th>\n",
       "      <th>newbalanceOrig</th>\n",
       "      <th>oldbalanceDest</th>\n",
       "      <th>newbalanceDest</th>\n",
       "      <th>isFraud</th>\n",
       "    </tr>\n",
       "  </thead>\n",
       "  <tbody>\n",
       "    <tr>\n",
       "      <th>count</th>\n",
       "      <td>1.299900e+04</td>\n",
       "      <td>1.299900e+04</td>\n",
       "      <td>1.299900e+04</td>\n",
       "      <td>1.299900e+04</td>\n",
       "      <td>1.299900e+04</td>\n",
       "      <td>12999.000000</td>\n",
       "    </tr>\n",
       "    <tr>\n",
       "      <th>mean</th>\n",
       "      <td>6.363155e+04</td>\n",
       "      <td>6.462105e+05</td>\n",
       "      <td>6.583679e+05</td>\n",
       "      <td>1.286649e+05</td>\n",
       "      <td>1.474034e+05</td>\n",
       "      <td>0.005462</td>\n",
       "    </tr>\n",
       "    <tr>\n",
       "      <th>std</th>\n",
       "      <td>1.306144e+05</td>\n",
       "      <td>1.799718e+06</td>\n",
       "      <td>1.837959e+06</td>\n",
       "      <td>3.559455e+05</td>\n",
       "      <td>3.724526e+05</td>\n",
       "      <td>0.073706</td>\n",
       "    </tr>\n",
       "    <tr>\n",
       "      <th>min</th>\n",
       "      <td>2.390000e+00</td>\n",
       "      <td>0.000000e+00</td>\n",
       "      <td>0.000000e+00</td>\n",
       "      <td>0.000000e+00</td>\n",
       "      <td>0.000000e+00</td>\n",
       "      <td>0.000000</td>\n",
       "    </tr>\n",
       "    <tr>\n",
       "      <th>25%</th>\n",
       "      <td>4.012555e+03</td>\n",
       "      <td>2.410000e+02</td>\n",
       "      <td>0.000000e+00</td>\n",
       "      <td>0.000000e+00</td>\n",
       "      <td>0.000000e+00</td>\n",
       "      <td>0.000000</td>\n",
       "    </tr>\n",
       "    <tr>\n",
       "      <th>50%</th>\n",
       "      <td>1.000198e+04</td>\n",
       "      <td>2.052900e+04</td>\n",
       "      <td>9.353470e+03</td>\n",
       "      <td>0.000000e+00</td>\n",
       "      <td>0.000000e+00</td>\n",
       "      <td>0.000000</td>\n",
       "    </tr>\n",
       "    <tr>\n",
       "      <th>75%</th>\n",
       "      <td>5.672027e+04</td>\n",
       "      <td>1.058325e+05</td>\n",
       "      <td>1.001440e+05</td>\n",
       "      <td>6.643421e+04</td>\n",
       "      <td>4.087379e+04</td>\n",
       "      <td>0.000000</td>\n",
       "    </tr>\n",
       "    <tr>\n",
       "      <th>max</th>\n",
       "      <td>2.930418e+06</td>\n",
       "      <td>1.292938e+07</td>\n",
       "      <td>1.301050e+07</td>\n",
       "      <td>1.306083e+07</td>\n",
       "      <td>1.995598e+06</td>\n",
       "      <td>1.000000</td>\n",
       "    </tr>\n",
       "  </tbody>\n",
       "</table>\n",
       "</div>"
      ],
      "text/plain": [
       "             amount  oldbalanceOrig  newbalanceOrig  oldbalanceDest  \\\n",
       "count  1.299900e+04    1.299900e+04    1.299900e+04    1.299900e+04   \n",
       "mean   6.363155e+04    6.462105e+05    6.583679e+05    1.286649e+05   \n",
       "std    1.306144e+05    1.799718e+06    1.837959e+06    3.559455e+05   \n",
       "min    2.390000e+00    0.000000e+00    0.000000e+00    0.000000e+00   \n",
       "25%    4.012555e+03    2.410000e+02    0.000000e+00    0.000000e+00   \n",
       "50%    1.000198e+04    2.052900e+04    9.353470e+03    0.000000e+00   \n",
       "75%    5.672027e+04    1.058325e+05    1.001440e+05    6.643421e+04   \n",
       "max    2.930418e+06    1.292938e+07    1.301050e+07    1.306083e+07   \n",
       "\n",
       "       newbalanceDest       isFraud  \n",
       "count    1.299900e+04  12999.000000  \n",
       "mean     1.474034e+05      0.005462  \n",
       "std      3.724526e+05      0.073706  \n",
       "min      0.000000e+00      0.000000  \n",
       "25%      0.000000e+00      0.000000  \n",
       "50%      0.000000e+00      0.000000  \n",
       "75%      4.087379e+04      0.000000  \n",
       "max      1.995598e+06      1.000000  "
      ]
     },
     "execution_count": 18,
     "metadata": {},
     "output_type": "execute_result"
    }
   ],
   "source": [
    "new_fraud.describe()"
   ]
  },
  {
   "cell_type": "markdown",
   "id": "f09d7175-720e-40d0-866a-abbda39ebc32",
   "metadata": {},
   "source": [
    "## 4. Predictive Analysis [Regression Models]"
   ]
  },
  {
   "cell_type": "code",
   "execution_count": 19,
   "id": "eeb36443",
   "metadata": {},
   "outputs": [],
   "source": [
    "x=new_fraud[['amount','oldbalanceOrig','newbalanceOrig','oldbalanceDest','newbalanceDest']]\n",
    "y=new_fraud['isFraud']"
   ]
  },
  {
   "cell_type": "code",
   "execution_count": 20,
   "id": "1cc2e5f8",
   "metadata": {},
   "outputs": [
    {
     "name": "stdout",
     "output_type": "stream",
     "text": [
      "(10399, 5) (2600, 5) (10399,) (2600,)\n"
     ]
    }
   ],
   "source": [
    "x_train,x_test,y_train,y_test= train_test_split(x,y,train_size=0.8, random_state=4)\n",
    "print(x_train.shape,x_test.shape,y_train.shape,y_test.shape)"
   ]
  },
  {
   "cell_type": "markdown",
   "id": "aed950c5",
   "metadata": {},
   "source": [
    "Classification avec l'algorithme KNN neighbors "
   ]
  },
  {
   "cell_type": "markdown",
   "id": "24ea4d7a",
   "metadata": {},
   "source": [
    "Réglage de l'hyperparamètre "
   ]
  },
  {
   "cell_type": "code",
   "execution_count": 21,
   "id": "429b55c8",
   "metadata": {},
   "outputs": [
    {
     "data": {
      "text/plain": [
       "0.9930769230769231"
      ]
     },
     "execution_count": 21,
     "metadata": {},
     "output_type": "execute_result"
    }
   ],
   "source": [
    "KNN = KNeighborsClassifier(n_neighbors=3)\n",
    "KNN.fit(x_train,y_train)\n",
    "KNN.score(x_test,y_test)"
   ]
  },
  {
   "cell_type": "code",
   "execution_count": 22,
   "id": "379128df",
   "metadata": {},
   "outputs": [],
   "source": [
    "val_score=[]\n",
    "for k in range(2,15):\n",
    "    model=KNeighborsClassifier(n_neighbors=k)\n",
    "    model.fit(x_train,y_train)\n",
    "    val_score.append(100*model.score(x_test,y_test))\n"
   ]
  },
  {
   "cell_type": "code",
   "execution_count": 23,
   "id": "11a86d62",
   "metadata": {},
   "outputs": [
    {
     "data": {
      "text/plain": [
       "[<matplotlib.lines.Line2D at 0x2c48139a370>]"
      ]
     },
     "execution_count": 23,
     "metadata": {},
     "output_type": "execute_result"
    },
    {
     "data": {
      "image/png": "[encoded data removed]",
      "text/plain": [
       "<Figure size 432x288 with 1 Axes>"
      ]
     },
     "metadata": {
      "needs_background": "light"
     },
     "output_type": "display_data"
    }
   ],
   "source": [
    "plt.plot(range(2,15),val_score,'o-')"
   ]
  },
  {
   "cell_type": "code",
   "execution_count": 24,
   "id": "e391ca19",
   "metadata": {},
   "outputs": [
    {
     "data": {
      "text/plain": [
       "KNeighborsClassifier()"
      ]
     },
     "execution_count": 24,
     "metadata": {},
     "output_type": "execute_result"
    }
   ],
   "source": [
    "KNN = KNeighborsClassifier(n_neighbors=5)\n",
    "KNN.fit(x_train,y_train)"
   ]
  },
  {
   "cell_type": "code",
   "execution_count": 25,
   "id": "946f3b2e",
   "metadata": {},
   "outputs": [
    {
     "data": {
      "image/png": "[encoded data removed]",
      "text/plain": [
       "<Figure size 432x288 with 2 Axes>"
      ]
     },
     "metadata": {
      "needs_background": "light"
     },
     "output_type": "display_data"
    }
   ],
   "source": [
    "from sklearn.metrics import plot_confusion_matrix\n",
    "plot_confusion_matrix(KNN, x_test, y_test)\n",
    "plt.show()"
   ]
  },
  {
   "cell_type": "code",
   "execution_count": 26,
   "id": "bdea17fb",
   "metadata": {},
   "outputs": [
    {
     "name": "stdout",
     "output_type": "stream",
     "text": [
      "              precision    recall  f1-score   support\n",
      "\n",
      "           0       0.99      1.00      1.00      2584\n",
      "           1       1.00      0.06      0.12        16\n",
      "\n",
      "    accuracy                           0.99      2600\n",
      "   macro avg       1.00      0.53      0.56      2600\n",
      "weighted avg       0.99      0.99      0.99      2600\n",
      "\n"
     ]
    }
   ],
   "source": [
    "from sklearn.metrics import classification_report\n",
    "print(classification_report(y_test,KNN.predict(x_test)))"
   ]
  },
  {
   "cell_type": "markdown",
   "id": "2c32912c",
   "metadata": {},
   "source": [
    "### Arbre de décision"
   ]
  },
  {
   "cell_type": "code",
   "execution_count": 27,
   "id": "816d6b61",
   "metadata": {},
   "outputs": [
    {
     "data": {
      "text/plain": [
       "0.9942307692307693"
      ]
     },
     "execution_count": 27,
     "metadata": {},
     "output_type": "execute_result"
    }
   ],
   "source": [
    "Arbre=DecisionTreeClassifier(random_state=25, max_depth=5)\n",
    "Arbre.fit(x_train,y_train,sample_weight=None,check_input=True)\n",
    "Arbre.score(x_test,y_test)"
   ]
  },
  {
   "cell_type": "code",
   "execution_count": 28,
   "id": "ada5cb48",
   "metadata": {},
   "outputs": [
    {
     "data": {
      "image/png": "[encoded data removed]",
      "text/plain": [
       "<Figure size 432x288 with 2 Axes>"
      ]
     },
     "metadata": {
      "needs_background": "light"
     },
     "output_type": "display_data"
    }
   ],
   "source": [
    "plot_confusion_matrix(Arbre, x_test, y_test)\n",
    "plt.show()"
   ]
  },
  {
   "cell_type": "code",
   "execution_count": 29,
   "id": "4c71f2e2",
   "metadata": {},
   "outputs": [
    {
     "name": "stdout",
     "output_type": "stream",
     "text": [
      "              precision    recall  f1-score   support\n",
      "\n",
      "           0       0.99      1.00      1.00      2584\n",
      "           1       0.60      0.19      0.29        16\n",
      "\n",
      "    accuracy                           0.99      2600\n",
      "   macro avg       0.80      0.59      0.64      2600\n",
      "weighted avg       0.99      0.99      0.99      2600\n",
      "\n"
     ]
    }
   ],
   "source": [
    "print(classification_report(y_test,Arbre.predict(x_test)))"
   ]
  },
  {
   "cell_type": "code",
   "execution_count": 30,
   "id": "37aef458",
   "metadata": {
    "scrolled": true
   },
   "outputs": [
    {
     "data": {
      "image/png": "[encoded data removed]",
      "text/plain": [
       "<Figure size 1440x720 with 1 Axes>"
      ]
     },
     "metadata": {
      "needs_background": "light"
     },
     "output_type": "display_data"
    }
   ],
   "source": [
    "from sklearn import tree\n",
    "feature_names=['amount','oldbalanceOrg','newbalanceOrig','oldbalanceDest','newbalanceDest']\n",
    "plt.figure(figsize=(20, 10))\n",
    "tree.plot_tree(Arbre,feature_names=feature_names,class_names=['M','B'], filled=True)\n",
    "plt.show()"
   ]
  },
  {
   "cell_type": "markdown",
   "id": "ec5d40e9",
   "metadata": {},
   "source": [
    "### Regression Logistique "
   ]
  },
  {
   "cell_type": "code",
   "execution_count": 31,
   "id": "bcb09bf9",
   "metadata": {},
   "outputs": [
    {
     "data": {
      "text/plain": [
       "LogisticRegression()"
      ]
     },
     "execution_count": 31,
     "metadata": {},
     "output_type": "execute_result"
    }
   ],
   "source": [
    "LR = LogisticRegression()\n",
    "LR.fit(x_train,y_train)"
   ]
  },
  {
   "cell_type": "code",
   "execution_count": 32,
   "id": "b3d006b1",
   "metadata": {},
   "outputs": [
    {
     "data": {
      "text/plain": [
       "0.9946153846153846"
      ]
     },
     "execution_count": 32,
     "metadata": {},
     "output_type": "execute_result"
    }
   ],
   "source": [
    "LR.score(x_test,y_test)"
   ]
  },
  {
   "cell_type": "code",
   "execution_count": 33,
   "id": "a3b8ad02",
   "metadata": {},
   "outputs": [
    {
     "data": {
      "image/png": "[encoded data removed]",
      "text/plain": [
       "<Figure size 432x288 with 2 Axes>"
      ]
     },
     "metadata": {
      "needs_background": "light"
     },
     "output_type": "display_data"
    }
   ],
   "source": [
    "plot_confusion_matrix(LR, x_test, y_test)\n",
    "plt.show()"
   ]
  },
  {
   "cell_type": "code",
   "execution_count": 34,
   "id": "6a8f0b14",
   "metadata": {},
   "outputs": [
    {
     "name": "stdout",
     "output_type": "stream",
     "text": [
      "              precision    recall  f1-score   support\n",
      "\n",
      "           0       0.99      1.00      1.00      2584\n",
      "           1       1.00      0.12      0.22        16\n",
      "\n",
      "    accuracy                           0.99      2600\n",
      "   macro avg       1.00      0.56      0.61      2600\n",
      "weighted avg       0.99      0.99      0.99      2600\n",
      "\n"
     ]
    }
   ],
   "source": [
    "print(classification_report(y_test,LR.predict(x_test)))"
   ]
  },
  {
   "cell_type": "markdown",
   "id": "719dbaef",
   "metadata": {},
   "source": [
    "### Comparaison"
   ]
  },
  {
   "cell_type": "code",
   "execution_count": 35,
   "id": "e402cd54",
   "metadata": {},
   "outputs": [
    {
     "name": "stdout",
     "output_type": "stream",
     "text": [
      "                 val     Score\n",
      "0                 LR  0.994615\n",
      "1                KNN  0.994231\n",
      "2  Arbre de décision  0.994231\n"
     ]
    }
   ],
   "source": [
    "Score=[LR.score(x_test,y_test),KNN.score(x_test,y_test),Arbre.score(x_test,y_test)]\n",
    "df=pd.DataFrame({'val':['LR','KNN','Arbre de décision'],'Score':Score})\n",
    "print(df)"
   ]
  },
  {
   "cell_type": "code",
   "execution_count": 36,
   "id": "3b63b1cd",
   "metadata": {},
   "outputs": [
    {
     "data": {
      "image/png": "[encoded data removed]",
      "text/plain": [
       "<Figure size 1080x360 with 6 Axes>"
      ]
     },
     "metadata": {
      "needs_background": "light"
     },
     "output_type": "display_data"
    }
   ],
   "source": [
    "fig, axes = plt.subplots(nrows=1, ncols=3, figsize=(15,5))\n",
    "classifiers=[KNN,Arbre,LR]\n",
    "for cls, ax in zip(classifiers, axes.flatten()):\n",
    "    plot_confusion_matrix(cls, x_test, y_test, ax=ax, cmap='Blues')  \n",
    "    ax.title.set_text(type(cls).__name__)\n",
    "\n",
    "plt.tight_layout()  \n",
    "plt.show()"
   ]
  }
 ],
 "metadata": {
  "kernelspec": {
   "display_name": "Python 3 (ipykernel)",
   "language": "python",
   "name": "python3"
  },
  "language_info": {
   "codemirror_mode": {
    "name": "ipython",
    "version": 3
   },
   "file_extension": ".py",
   "mimetype": "text/x-python",
   "name": "python",
   "nbconvert_exporter": "python",
   "pygments_lexer": "ipython3",
   "version": "3.9.16"
  }
 },
 "nbformat": 4,
 "nbformat_minor": 5
}
